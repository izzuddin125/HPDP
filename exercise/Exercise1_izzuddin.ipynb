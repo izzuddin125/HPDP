{
  "nbformat": 4,
  "nbformat_minor": 0,
  "metadata": {
    "colab": {
      "provenance": [],
      "toc_visible": true,
      "authorship_tag": "ABX9TyPaJKnkL79fzkWkfiiXjs5X",
      "include_colab_link": true
    },
    "kernelspec": {
      "name": "python3",
      "display_name": "Python 3"
    },
    "language_info": {
      "name": "python"
    }
  },
  "cells": [
    {
      "cell_type": "markdown",
      "metadata": {
        "id": "view-in-github",
        "colab_type": "text"
      },
      "source": [
        "<a href=\"https://colab.research.google.com/github/izzuddin125/HPDP/blob/main/exercise/Exercise1_izzuddin.ipynb\" target=\"_parent\"><img src=\"https://colab.research.google.com/assets/colab-badge.svg\" alt=\"Open In Colab\"/></a>"
      ]
    },
    {
      "cell_type": "code",
      "execution_count": null,
      "metadata": {
        "id": "qn1WMP_-bQ9g"
      },
      "outputs": [],
      "source": []
    },
    {
      "cell_type": "markdown",
      "source": [
        "#Basic Information\n",
        "##Hello World\n",
        "Muhammad Izzuddin Bin Shabrin\n",
        "###Hello World\n",
        "####Hello World\n",
        "#####Hello World"
      ],
      "metadata": {
        "id": "IYspGt2tbaIh"
      }
    },
    {
      "cell_type": "markdown",
      "source": [
        "\tDataset containing sales data from the mock office supply company."
      ],
      "metadata": {
        "id": "Fkkmj10Pb45f"
      }
    },
    {
      "cell_type": "code",
      "source": [
        "pip install Flask"
      ],
      "metadata": {
        "colab": {
          "base_uri": "https://localhost:8080/"
        },
        "id": "45FWz9oFcQQK",
        "outputId": "8321839b-7845-42db-8893-f8283a26a2d3"
      },
      "execution_count": 3,
      "outputs": [
        {
          "output_type": "stream",
          "name": "stdout",
          "text": [
            "Requirement already satisfied: Flask in /usr/local/lib/python3.10/dist-packages (2.2.5)\n",
            "Requirement already satisfied: Werkzeug>=2.2.2 in /usr/local/lib/python3.10/dist-packages (from Flask) (3.0.1)\n",
            "Requirement already satisfied: Jinja2>=3.0 in /usr/local/lib/python3.10/dist-packages (from Flask) (3.1.2)\n",
            "Requirement already satisfied: itsdangerous>=2.0 in /usr/local/lib/python3.10/dist-packages (from Flask) (2.1.2)\n",
            "Requirement already satisfied: click>=8.0 in /usr/local/lib/python3.10/dist-packages (from Flask) (8.1.7)\n",
            "Requirement already satisfied: MarkupSafe>=2.0 in /usr/local/lib/python3.10/dist-packages (from Jinja2>=3.0->Flask) (2.1.3)\n"
          ]
        }
      ]
    },
    {
      "cell_type": "markdown",
      "source": [
        "## Reference\n",
        "\n",
        "Markdown | Preview\n",
        "--- | ---\n",
        "`**bold text**` | **bold text**\n",
        "`*italicized text*` or `_italicized text_` | *italicized text*\n",
        "`` `Monospace` `` | `Monospace`\n",
        "`~~strikethrough~~` | ~~strikethrough~~\n",
        "`[A link](https://www.google.com)` | [A link](https://www.google.com)\n",
        "`![An image](https://www.google.com/images/rss.png)` | ![An image](https://www.google.com/images/rss.png)\n",
        "\n",
        "\n",
        "---\n",
        "Headings are rendered as titles.\n",
        "\n",
        "```markdown\n",
        "# Section 1\n",
        "# Section 2\n",
        "## Sub-section under Section 2\n",
        "### Sub-section under the sub-section under Section 2\n",
        "# Section 3\n",
        "```\n",
        "\n",
        "# Section 1\n",
        "# Section 2\n",
        "## Sub-section under Section 2\n",
        "### Sub-section under the sub-section under Section 2\n",
        "# Section 3\n",
        "\n",
        "The table of contents, available on the left side of Colab, is populated using at most one section title from each text cell.\n",
        "\n",
        "---\n",
        "\n",
        "```markdown\n",
        ">One level of indentation\n",
        "```\n",
        "\n",
        ">One level of indentation\n",
        "\n",
        "\n",
        "```markdown\n",
        ">>Two levels of indentation\n",
        "```\n",
        "\n",
        ">>Two levels of indentation\n",
        "\n",
        "---\n",
        "\n",
        "Code blocks\n",
        "\n",
        "````\n",
        "```python\n",
        "print(\"a\")\n",
        "```\n",
        "````\n",
        "\n",
        "```python\n",
        "print(\"a\")\n",
        "```\n",
        "\n",
        "---\n",
        "\n",
        "Ordered lists:\n",
        "```markdown\n",
        "1. One\n",
        "1. Two\n",
        "1. Three\n",
        "```\n",
        "1. One\n",
        "1. Two\n",
        "1. Three\n",
        "\n",
        "---\n",
        "\n",
        "Unordered lists:\n",
        "```markdown\n",
        "* One\n",
        "* Two\n",
        "* Three\n",
        "```\n",
        "* One\n",
        "* Two\n",
        "* Three\n",
        "\n",
        "---\n",
        "\n",
        "Equations:\n",
        "\n",
        "```markdown\n",
        "$y=x^2$\n",
        "\n",
        "$e^{i\\pi} + 1 = 0$\n",
        "\n",
        "$e^x=\\sum_{i=0}^\\infty \\frac{1}{i!}x^i$\n",
        "\n",
        "$\\frac{n!}{k!(n-k)!} = {n \\choose k}$\n",
        "\n",
        "$A_{m,n} =\n",
        " \\begin{pmatrix}\n",
        "  a_{1,1} & a_{1,2} & \\cdots & a_{1,n} \\\\\n",
        "  a_{2,1} & a_{2,2} & \\cdots & a_{2,n} \\\\\n",
        "  \\vdots  & \\vdots  & \\ddots & \\vdots  \\\\\n",
        "  a_{m,1} & a_{m,2} & \\cdots & a_{m,n}\n",
        " \\end{pmatrix}$\n",
        "```\n",
        "\n",
        "$y=x^2$\n",
        "\n",
        "$e^{i\\pi} + 1 = 0$\n",
        "\n",
        "$e^x=\\sum_{i=0}^\\infty \\frac{1}{i!}x^i$\n",
        "\n",
        "$\\frac{n!}{k!(n-k)!} = {n \\choose k}$\n",
        "\n",
        "$A_{m,n} =\n",
        " \\begin{pmatrix}\n",
        "  a_{1,1} & a_{1,2} & \\cdots & a_{1,n} \\\\\n",
        "  a_{2,1} & a_{2,2} & \\cdots & a_{2,n} \\\\\n",
        "  \\vdots  & \\vdots  & \\ddots & \\vdots  \\\\\n",
        "  a_{m,1} & a_{m,2} & \\cdots & a_{m,n}\n",
        " \\end{pmatrix}$\n",
        "\n",
        "\n",
        " ---\n",
        "\n",
        "Tables:\n",
        "```markdown\n",
        "First column name  | Second column name\n",
        "-------------------|------------------\n",
        "Row 1, Col 1       | Row 1, Col 2\n",
        "Row 2, Col 1       | Row 2, Col 2\n",
        "\n",
        "```\n",
        "\n",
        "First column name  | Second column name\n",
        "-------------------|------------------\n",
        "Row 1, Col 1       | Row 1, Col 2\n",
        "Row 2, Col 1       | Row 2, Col 2\n",
        "\n",
        "---\n",
        "\n",
        "Horizontal rules:\n",
        "```markdown\n",
        "---\n",
        "```\n",
        "\n",
        "---\n",
        "\n",
        "\n"
      ],
      "metadata": {
        "id": "9LSKclskc3rk"
      }
    }
  ]
}